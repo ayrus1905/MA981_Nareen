{
 "cells": [
  {
   "cell_type": "markdown",
   "id": "8f5365b7",
   "metadata": {},
   "source": [
    "# Loading the Libraries"
   ]
  },
  {
   "cell_type": "code",
   "execution_count": null,
   "id": "07cd8111",
   "metadata": {},
   "outputs": [],
   "source": [
    "import osmnx as ox\n",
    "import csv as csv \n",
    "import numpy as np\n",
    "import geopandas as gp\n",
    "import pandas as pd\n",
    "import matplotlib.pyplot as plt\n",
    "import seaborn as sns\n",
    "\n",
    "import plotly.express as px\n",
    "import plotly.io as pio\n",
    "import plotly.graph_objects as go\n",
    "import json\n",
    "\n",
    "from mlxtend.feature_selection import SequentialFeatureSelector as sfs\n",
    "from sklearn.model_selection import train_test_split\n",
    "from sklearn.linear_model import LinearRegression\n",
    "lr = LinearRegression()\n",
    "from sklearn.metrics import r2_score\n",
    "from sklearn.metrics import accuracy_score\n",
    "\n",
    "from sklearn.linear_model import LogisticRegression\n",
    "reg = LogisticRegression()\n",
    "\n",
    "\n",
    "from sklearn.ensemble import RandomForestClassifier\n",
    "rf= RandomForestClassifier()\n",
    "\n",
    "from sklearn import tree\n",
    "dt= tree.DecisionTreeClassifier()\n",
    "\n",
    "from sklearn import svm\n",
    "svmc = svm.SVC()\n",
    "\n",
    "from pysal.lib import weights\n",
    "import esda\n",
    "from splot.esda import moran_scatterplot, lisa_cluster, plot_local_autocorrelation\n",
    "import contextily as ctx"
   ]
  },
  {
   "cell_type": "markdown",
   "id": "3b86f141",
   "metadata": {},
   "source": [
    "# Reading the shapefile"
   ]
  },
  {
   "cell_type": "code",
   "execution_count": null,
   "id": "a83cdf94",
   "metadata": {},
   "outputs": [],
   "source": [
    "uk = gp.read_file('/Users/ayrus/Desktop/Dissertation/uk/msoa.shp')"
   ]
  },
  {
   "cell_type": "code",
   "execution_count": null,
   "id": "13daf32b",
   "metadata": {},
   "outputs": [],
   "source": [
    "# Removing unwanted columns\n",
    "\n",
    "uk.drop('OBJECTID', inplace=True, axis=1)\n",
    "uk.drop('MSOA21NM', inplace=True, axis=1)\n",
    "uk.drop('GlobalID', inplace=True, axis=1)\n",
    "uk.drop('SHAPE_Leng', inplace=True, axis=1)"
   ]
  },
  {
   "cell_type": "markdown",
   "id": "f68817c8",
   "metadata": {},
   "source": [
    "# Reading the census Data"
   ]
  },
  {
   "cell_type": "code",
   "execution_count": null,
   "id": "53ce1531",
   "metadata": {},
   "outputs": [],
   "source": [
    "msoa = pd.read_csv('/Users/ayrus/Desktop/Dissertation/essex/msoa.csv')"
   ]
  },
  {
   "cell_type": "markdown",
   "id": "a7237f8a",
   "metadata": {},
   "source": [
    "# Integrating shapefile and census data"
   ]
  },
  {
   "cell_type": "code",
   "execution_count": null,
   "id": "6912b4e2",
   "metadata": {},
   "outputs": [],
   "source": [
    "# from UK shapefile at MSOA level, we seperated the Essex by merging the Essex MSOA census data\n",
    "\n",
    "essex = uk.merge(msoa, left_on=\"MSOA21CD\",right_on=\"MSOA Code\")"
   ]
  },
  {
   "cell_type": "code",
   "execution_count": null,
   "id": "2dc9a69e",
   "metadata": {},
   "outputs": [],
   "source": [
    "# Removing unwanted columns\n",
    "\n",
    "essex.drop('MSOA21CD', inplace=True, axis=1)\n",
    "essex.drop('MSOA Name', inplace=True, axis=1)"
   ]
  },
  {
   "cell_type": "code",
   "execution_count": null,
   "id": "9864485a",
   "metadata": {},
   "outputs": [],
   "source": [
    "# saving the shapefile of essex with integrated spatial and census data\n",
    "\n",
    "# essex.to_file('/Users/ayrus/Desktop/Dissertation/essex/essex.shp')"
   ]
  },
  {
   "cell_type": "markdown",
   "id": "a8cf9513",
   "metadata": {},
   "source": [
    "# Retrieving the features from OpenStreetMap "
   ]
  },
  {
   "cell_type": "code",
   "execution_count": null,
   "id": "f4d4a12b",
   "metadata": {},
   "outputs": [],
   "source": [
    "# changing the Coordinate Reference System (CRS) from EPSG:27700 to EPSG:4326\n",
    "\n",
    "essex=essex.to_crs({'init': 'epsg:4326'})"
   ]
  },
  {
   "cell_type": "markdown",
   "id": "621b622a",
   "metadata": {},
   "source": [
    "### 1. retrieving the \"Road Instersections\" of Drive type as \"nodes\""
   ]
  },
  {
   "cell_type": "code",
   "execution_count": null,
   "id": "628804b9",
   "metadata": {},
   "outputs": [],
   "source": [
    "nod=[]\n",
    "for geo in essex['geometry']:\n",
    "    i = ox.graph_from_polygon(geo, network_type=\"drive\")\n",
    "    n, e = ox.graph_to_gdfs(i)\n",
    "    nod.append(len(n))\n",
    "essex['nodes']=nod"
   ]
  },
  {
   "cell_type": "markdown",
   "id": "e9f81b64",
   "metadata": {},
   "source": [
    "### 2. retrieving the \"Residential Buildings\" as \"res_blds\""
   ]
  },
  {
   "cell_type": "code",
   "execution_count": null,
   "id": "3e92c2fc",
   "metadata": {},
   "outputs": [],
   "source": [
    "r_bld = {'building':['apartments','bungalow','cabin','detached','house','residential','semidetached_house','terrace']}\n",
    "rb1=[]\n",
    "for geo in essex['geometry'][:100]:\n",
    "    i = ox.geometries_from_polygon(geo, tags=r_bld)\n",
    "    rb1.append(len(i))"
   ]
  },
  {
   "cell_type": "code",
   "execution_count": null,
   "id": "7ecc1e5f",
   "metadata": {},
   "outputs": [],
   "source": [
    "r_bld = {'building':['apartments','bungalow','cabin','detached','house','residential','semidetached_house','terrace']}\n",
    "rb2=[]\n",
    "for geo in essex['geometry'][100:150]:\n",
    "    i = ox.geometries_from_polygon(geo, tags=r_bld)\n",
    "    rb2.append(len(i))"
   ]
  },
  {
   "cell_type": "code",
   "execution_count": null,
   "id": "a122230e",
   "metadata": {},
   "outputs": [],
   "source": [
    "r_bld = {'building':['apartments','bungalow','cabin','detached','house','residential','semidetached_house','terrace']}\n",
    "rb3=[]\n",
    "for geo in essex['geometry'][150:175]:\n",
    "    i = ox.geometries_from_polygon(geo, tags=r_bld)\n",
    "    rb3.append(len(i))"
   ]
  },
  {
   "cell_type": "code",
   "execution_count": null,
   "id": "51174ced",
   "metadata": {},
   "outputs": [],
   "source": [
    "essex['res_blds']=rb1+rb2+rb3"
   ]
  },
  {
   "cell_type": "markdown",
   "id": "f26c1e29",
   "metadata": {},
   "source": [
    "### 3. retrieving the \"Commercial Buildings\" as \"com_blds\""
   ]
  },
  {
   "cell_type": "code",
   "execution_count": null,
   "id": "c9a4b3fc",
   "metadata": {},
   "outputs": [],
   "source": [
    "c_bld = {'building':['commercial','industrial','kiosk','office','retail','supermarket','warehouse']}\n",
    "cb1=[]\n",
    "for geo in essex['geometry'][:100]:\n",
    "    i = ox.geometries_from_polygon(geo, tags=c_bld)\n",
    "    cb1.append(len(i))"
   ]
  },
  {
   "cell_type": "code",
   "execution_count": null,
   "id": "b73b36e8",
   "metadata": {},
   "outputs": [],
   "source": [
    "c_bld = {'building':['commercial','industrial','kiosk','office','retail','supermarket','warehouse']}\n",
    "cb2=[]\n",
    "for geo in essex['geometry'][100:175]:\n",
    "    i = ox.geometries_from_polygon(geo, tags=c_bld)\n",
    "    cb2.append(len(i))"
   ]
  },
  {
   "cell_type": "code",
   "execution_count": null,
   "id": "7709030e",
   "metadata": {},
   "outputs": [],
   "source": [
    "essex['com_blds']=cb1+cb2"
   ]
  },
  {
   "cell_type": "markdown",
   "id": "ababee02",
   "metadata": {},
   "source": [
    "### 4. retrieving the \"Shops\" as \"shop\""
   ]
  },
  {
   "cell_type": "code",
   "execution_count": null,
   "id": "347877de",
   "metadata": {},
   "outputs": [],
   "source": [
    "shop = {'shop':True}\n",
    "sp1=[]\n",
    "for geo in essex['geometry'][:100]:\n",
    "    i = ox.geometries_from_polygon(geo, tags=shop)\n",
    "    sp1.append(len(i))"
   ]
  },
  {
   "cell_type": "code",
   "execution_count": null,
   "id": "51e0f8b5",
   "metadata": {},
   "outputs": [],
   "source": [
    "shop = {'shop':True}\n",
    "sp2=[]\n",
    "for geo in essex['geometry'][100:175]:\n",
    "    i = ox.geometries_from_polygon(geo, tags=shop)\n",
    "    sp2.append(len(i))"
   ]
  },
  {
   "cell_type": "code",
   "execution_count": null,
   "id": "2be2a113",
   "metadata": {},
   "outputs": [],
   "source": [
    "essex['shop']=sp1+sp2"
   ]
  },
  {
   "cell_type": "markdown",
   "id": "68e58901",
   "metadata": {},
   "source": [
    "### 5. retrieving the \"Tourism Places\" as \"tour\""
   ]
  },
  {
   "cell_type": "code",
   "execution_count": null,
   "id": "84421d37",
   "metadata": {},
   "outputs": [],
   "source": [
    "tour = {'tourism':True}\n",
    "tr=[]\n",
    "for geo in essex['geometry']:\n",
    "    i = ox.geometries_from_polygon(geo, tags=tour)\n",
    "    tr.append(len(i))\n",
    "essex['tour']=tr"
   ]
  },
  {
   "cell_type": "markdown",
   "id": "c0b9e408",
   "metadata": {},
   "source": [
    "### 6. retrieving the \"Places of Worship\" as \"pow\""
   ]
  },
  {
   "cell_type": "code",
   "execution_count": null,
   "id": "d3f5a013",
   "metadata": {},
   "outputs": [],
   "source": [
    "plow = {'amenity':'place_of_worship'}\n",
    "pw=[]\n",
    "for geo in essex['geometry']:\n",
    "    i = ox.geometries_from_polygon(geo, tags=plow)\n",
    "    pw.append(len(i))\n",
    "essex['pow']=pw"
   ]
  },
  {
   "cell_type": "markdown",
   "id": "a1e6d9f6",
   "metadata": {},
   "source": [
    "### 7. retrieving the \"Educational Places\" as \"poi1\""
   ]
  },
  {
   "cell_type": "code",
   "execution_count": null,
   "id": "e87f75dd",
   "metadata": {},
   "outputs": [],
   "source": [
    "amen1 = {'amenity':['school','college','university','hospital']}\n",
    "poi1=[]\n",
    "for geo in essex['geometry']:\n",
    "    i = ox.geometries_from_polygon(geo, tags=amen1)\n",
    "    poi1.append(len(i))\n",
    "essex['poi1']=poi1"
   ]
  },
  {
   "cell_type": "markdown",
   "id": "e9aeed73",
   "metadata": {},
   "source": [
    "### 8. retrieving the \"Places of Sustenance and Entertainment\" as \"poi2\""
   ]
  },
  {
   "cell_type": "code",
   "execution_count": null,
   "id": "354c6dca",
   "metadata": {},
   "outputs": [],
   "source": [
    "amen2 = {'amenity':['restaurant','cafe','fast_food','food_court','pub','bar','cinema','theatre']}\n",
    "poi2=[]\n",
    "for geo in essex['geometry']:\n",
    "    i = ox.geometries_from_polygon(geo, tags=amen2)\n",
    "    poi2.append(len(i))\n",
    "essex['poi2']=poi2"
   ]
  },
  {
   "cell_type": "markdown",
   "id": "6ce4ca99",
   "metadata": {},
   "source": [
    "### 9. retrieving the \"Green Areas\" as \"poi3\""
   ]
  },
  {
   "cell_type": "code",
   "execution_count": null,
   "id": "b6f44015",
   "metadata": {},
   "outputs": [],
   "source": [
    "amen3 = {'leisure':['park','garden']}\n",
    "poi3=[]\n",
    "for geo in essex['geometry']:\n",
    "    i = ox.geometries_from_polygon(geo, tags=amen3)\n",
    "    poi3.append(len(i))\n",
    "essex['poi3']=poi3"
   ]
  },
  {
   "cell_type": "markdown",
   "id": "e955a340",
   "metadata": {},
   "source": [
    "### 10. retrieving the \"Fitness and Sports Areas\" as \"poi4\""
   ]
  },
  {
   "cell_type": "code",
   "execution_count": null,
   "id": "9d82bea5",
   "metadata": {},
   "outputs": [],
   "source": [
    "amen4 = {'leisure':['playground','stadium','fitness_centre','fitness_station']}\n",
    "poi4=[]\n",
    "for geo in essex['geometry']:\n",
    "    i = ox.geometries_from_polygon(geo, tags=amen4)\n",
    "    poi4.append(len(i))\n",
    "essex['poi4']=poi4"
   ]
  },
  {
   "cell_type": "markdown",
   "id": "3f6bb4ea",
   "metadata": {},
   "source": [
    "# Preparing the Data for Analysis"
   ]
  },
  {
   "cell_type": "code",
   "execution_count": null,
   "id": "74f71f68",
   "metadata": {},
   "outputs": [],
   "source": [
    "# converting the Area of MSOA polygons from metre square to km square\n",
    "\n",
    "essex['SHAPE_Area']= round((essex['SHAPE_Area']/1000000),3)"
   ]
  },
  {
   "cell_type": "code",
   "execution_count": null,
   "id": "8c4b50b5",
   "metadata": {},
   "outputs": [],
   "source": [
    "# Removing unwanted columns\n",
    "\n",
    "essex.drop('Males', inplace=True, axis=1)\n",
    "essex.drop('Females', inplace=True, axis=1)"
   ]
  },
  {
   "cell_type": "code",
   "execution_count": null,
   "id": "67f1b64d",
   "metadata": {},
   "outputs": [],
   "source": [
    "# converting the numbers into densities by dividing them with their respective areas of each MSOA polygon\n",
    "\n",
    "for col in essex.columns[4:]:\n",
    "    essex[col]=essex[col]/essex['SHAPE_Area']"
   ]
  },
  {
   "cell_type": "code",
   "execution_count": null,
   "id": "b425ed0e",
   "metadata": {},
   "outputs": [],
   "source": [
    "# assigning the Predictors and Target variables to a dataframe \"df\"\n",
    "\n",
    "df=essex[['All Ages','0 - 19','20 - 39','40 - 59','60 +','nodes','com_blds','res_blds','shop','tour','pow','poi1','poi2','poi3','poi4']]"
   ]
  },
  {
   "cell_type": "code",
   "execution_count": null,
   "id": "8d4cdf3a",
   "metadata": {},
   "outputs": [],
   "source": [
    "# assigning the Target variables to a dataframe \"Y\"\n",
    "\n",
    "Y=essex[['All Ages','0 - 19','20 - 39','40 - 59','60 +']]"
   ]
  },
  {
   "cell_type": "code",
   "execution_count": null,
   "id": "6067a9f6",
   "metadata": {},
   "outputs": [],
   "source": [
    "# assigning the Predictors  to a dataframe \"X\"\n",
    "\n",
    "X = essex[['nodes','com_blds','res_blds','shop','tour','pow','poi1','poi2','poi3','poi4']]"
   ]
  },
  {
   "cell_type": "markdown",
   "id": "fa363f4c",
   "metadata": {},
   "source": [
    "# Correlation Plots"
   ]
  },
  {
   "cell_type": "code",
   "execution_count": null,
   "id": "791bdf21",
   "metadata": {},
   "outputs": [],
   "source": [
    "df.corr()"
   ]
  },
  {
   "cell_type": "code",
   "execution_count": null,
   "id": "cdef2115",
   "metadata": {},
   "outputs": [],
   "source": [
    "df.corr(method=\"kendall\")"
   ]
  },
  {
   "cell_type": "code",
   "execution_count": null,
   "id": "1ff4e594",
   "metadata": {},
   "outputs": [],
   "source": [
    "sns.heatmap(df.corr())"
   ]
  },
  {
   "cell_type": "code",
   "execution_count": null,
   "id": "8c67fdb1",
   "metadata": {},
   "outputs": [],
   "source": [
    "sns.heatmap(df.corr(method=\"kendall\"))"
   ]
  },
  {
   "cell_type": "markdown",
   "id": "2b950665",
   "metadata": {},
   "source": [
    "# Choropleth Plots"
   ]
  },
  {
   "cell_type": "code",
   "execution_count": null,
   "id": "94059edb",
   "metadata": {},
   "outputs": [],
   "source": [
    "# saving the shape file as geojson file\n",
    "\n",
    "# essex.to_file('/Users/ayrus/Desktop/Dissertation/json/essex.geojson', driver='GeoJSON')"
   ]
  },
  {
   "cell_type": "code",
   "execution_count": null,
   "id": "dd3dd516",
   "metadata": {},
   "outputs": [],
   "source": [
    "# reading the geojson file\n",
    "\n",
    "j=open('/Users/ayrus/Desktop/Dissertation/json/essex.geojson')\n",
    "dff= json.load(j)"
   ]
  },
  {
   "cell_type": "code",
   "execution_count": null,
   "id": "0a276054",
   "metadata": {},
   "outputs": [],
   "source": []
  },
  {
   "cell_type": "code",
   "execution_count": null,
   "id": "4617e2d6",
   "metadata": {},
   "outputs": [],
   "source": [
    "q_y0_1 = essex[\"All Ages\"].quantile(0.1)\n",
    "q_y0_2 = essex[\"All Ages\"].quantile(0.9)"
   ]
  },
  {
   "cell_type": "code",
   "execution_count": null,
   "id": "5136cec9",
   "metadata": {},
   "outputs": [],
   "source": [
    "fig = px.choropleth_mapbox(essex,\n",
    "                           locations=\"MSOA Code\",\n",
    "                           geojson=dff,featureidkey=\"properties.MSOA Code\",\n",
    "                            color=\"All Ages\",\n",
    "                           range_color=(q_y0_1,q_y0_2),\n",
    "                           center={\"lat\": 51.8, \"lon\": 0.6},\n",
    "                           labels={'shop':'shops'},\n",
    "                           opacity=0.95,\n",
    "                           mapbox_style=\"carto-positron\", zoom=8.5)\n",
    "fig.update_layout(margin={\"r\":0,\"t\":0,\"l\":0,\"b\":0})\n",
    "fig.show()"
   ]
  },
  {
   "cell_type": "code",
   "execution_count": null,
   "id": "463efd81",
   "metadata": {},
   "outputs": [],
   "source": [
    "q_y1_1 = essex[\"0 - 19\"].quantile(0.1)\n",
    "q_y1_2 = essex[\"0 - 19\"].quantile(0.9)"
   ]
  },
  {
   "cell_type": "code",
   "execution_count": null,
   "id": "d8b7f4ed",
   "metadata": {},
   "outputs": [],
   "source": [
    "fig = px.choropleth_mapbox(essex,\n",
    "                           locations=\"MSOA Code\",\n",
    "                           geojson=dff,featureidkey=\"properties.MSOA Code\",\n",
    "                            color=\"0 - 19\",\n",
    "                           range_color=(q_y1_1,q_y1_2),\n",
    "                           center={\"lat\": 51.8, \"lon\": 0.6},\n",
    "                           labels={'shop':'shops'},\n",
    "                           opacity=0.95,\n",
    "                           mapbox_style=\"carto-positron\", zoom=8.5)\n",
    "fig.update_layout(margin={\"r\":0,\"t\":0,\"l\":0,\"b\":0})\n",
    "fig.show()"
   ]
  },
  {
   "cell_type": "code",
   "execution_count": null,
   "id": "a2daf9a3",
   "metadata": {},
   "outputs": [],
   "source": [
    "q_y2_1 = essex[\"20 - 39\"].quantile(0.1)\n",
    "q_y2_2 = essex[\"20 - 39\"].quantile(0.9)"
   ]
  },
  {
   "cell_type": "code",
   "execution_count": null,
   "id": "65179402",
   "metadata": {},
   "outputs": [],
   "source": [
    "fig = px.choropleth_mapbox(essex,\n",
    "                           locations=\"MSOA Code\",\n",
    "                           geojson=dff,featureidkey=\"properties.MSOA Code\",\n",
    "                            color=\"20 - 39\",\n",
    "                           range_color=(q_y2_1,q_y2_2),\n",
    "                           center={\"lat\": 51.8, \"lon\": 0.6},\n",
    "                           labels={'shop':'shops'},\n",
    "                           opacity=0.95,\n",
    "                           mapbox_style=\"carto-positron\", zoom=8.5)\n",
    "fig.update_layout(margin={\"r\":0,\"t\":0,\"l\":0,\"b\":0})\n",
    "fig.show()"
   ]
  },
  {
   "cell_type": "code",
   "execution_count": null,
   "id": "6f7dab21",
   "metadata": {},
   "outputs": [],
   "source": [
    "q_y3_1 = essex[\"40 - 59\"].quantile(0.1)\n",
    "q_y3_2 = essex[\"40 - 59\"].quantile(0.9)"
   ]
  },
  {
   "cell_type": "code",
   "execution_count": null,
   "id": "170fae78",
   "metadata": {},
   "outputs": [],
   "source": [
    "fig = px.choropleth_mapbox(essex,\n",
    "                           locations=\"MSOA Code\",\n",
    "                           geojson=dff,featureidkey=\"properties.MSOA Code\",\n",
    "                            color=\"40 - 59\",\n",
    "                           range_color=(q_y3_1,q_y3_2),\n",
    "                           center={\"lat\": 51.8, \"lon\": 0.6},\n",
    "                           labels={'shop':'shops'},\n",
    "                           opacity=0.95,\n",
    "                           mapbox_style=\"carto-positron\", zoom=8.5)\n",
    "fig.update_layout(margin={\"r\":0,\"t\":0,\"l\":0,\"b\":0})\n",
    "fig.show()"
   ]
  },
  {
   "cell_type": "code",
   "execution_count": null,
   "id": "5d73ee3f",
   "metadata": {},
   "outputs": [],
   "source": [
    "q_y4_1 = essex[\"60 +\"].quantile(0.1)\n",
    "q_y4_2 = essex[\"60 +\"].quantile(0.9)"
   ]
  },
  {
   "cell_type": "code",
   "execution_count": null,
   "id": "579273e9",
   "metadata": {},
   "outputs": [],
   "source": [
    "fig = px.choropleth_mapbox(essex,\n",
    "                           locations=\"MSOA Code\",\n",
    "                           geojson=dff,featureidkey=\"properties.MSOA Code\",\n",
    "                            color=\"60 +\",\n",
    "                           range_color=(q_y4_1,q_y4_2),\n",
    "                           center={\"lat\": 51.8, \"lon\": 0.6},\n",
    "                           labels={'shop':'shops'},\n",
    "                           opacity=0.95,\n",
    "                           mapbox_style=\"carto-positron\", zoom=8.5)\n",
    "fig.update_layout(margin={\"r\":0,\"t\":0,\"l\":0,\"b\":0})\n",
    "fig.show()"
   ]
  },
  {
   "cell_type": "code",
   "execution_count": null,
   "id": "8bad441a",
   "metadata": {},
   "outputs": [],
   "source": [
    "q_x1_1 = essex[\"nodes\"].quantile(0.1)\n",
    "q_x1_2 = essex[\"nodes\"].quantile(0.9)"
   ]
  },
  {
   "cell_type": "code",
   "execution_count": null,
   "id": "951b9fc6",
   "metadata": {},
   "outputs": [],
   "source": [
    "fig = px.choropleth_mapbox(essex,\n",
    "                           locations=\"MSOA Code\",\n",
    "                           geojson=dff,featureidkey=\"properties.MSOA Code\",\n",
    "                            color=\"nodes\",\n",
    "                           range_color=(q_x1_1,q_x1_2),\n",
    "                           center={\"lat\": 51.8, \"lon\": 0.6},\n",
    "                           labels={'shop':'shops'},\n",
    "                           opacity=0.95,\n",
    "                           mapbox_style=\"carto-positron\", zoom=8.5)\n",
    "fig.update_layout(margin={\"r\":0,\"t\":0,\"l\":0,\"b\":0})\n",
    "fig.show()"
   ]
  },
  {
   "cell_type": "code",
   "execution_count": null,
   "id": "1e903348",
   "metadata": {},
   "outputs": [],
   "source": [
    "q_x2_1 = essex[\"res_blds\"].quantile(0.1)\n",
    "q_x2_2 = essex[\"res_blds\"].quantile(0.9)"
   ]
  },
  {
   "cell_type": "code",
   "execution_count": null,
   "id": "ef8c96a2",
   "metadata": {},
   "outputs": [],
   "source": [
    "fig = px.choropleth_mapbox(essex,\n",
    "                           locations=\"MSOA Code\",\n",
    "                           geojson=dff,featureidkey=\"properties.MSOA Code\",\n",
    "                            color=\"res_blds\",\n",
    "                           range_color=(q_x2_1,q_x2_2),\n",
    "                           center={\"lat\": 51.8, \"lon\": 0.6},\n",
    "                           labels={'shop':'shops'},\n",
    "                           opacity=0.95,\n",
    "                           mapbox_style=\"carto-positron\", zoom=8.5)\n",
    "fig.update_layout(margin={\"r\":0,\"t\":0,\"l\":0,\"b\":0})\n",
    "fig.show()"
   ]
  },
  {
   "cell_type": "code",
   "execution_count": null,
   "id": "b6cfbf6e",
   "metadata": {},
   "outputs": [],
   "source": [
    "q_x4_1 = essex[\"shop\"].quantile(0.1)\n",
    "q_x4_2 = essex[\"shop\"].quantile(0.9)"
   ]
  },
  {
   "cell_type": "code",
   "execution_count": null,
   "id": "06d2120c",
   "metadata": {},
   "outputs": [],
   "source": [
    "fig = px.choropleth_mapbox(essex,\n",
    "                           locations=\"MSOA Code\",\n",
    "                           geojson=dff,featureidkey=\"properties.MSOA Code\",\n",
    "                            color=\"shop\",\n",
    "                           range_color=(q_x4_1,q_x4_2),\n",
    "                           center={\"lat\": 51.8, \"lon\": 0.6},\n",
    "                           labels={'shop':'shops'},\n",
    "                           opacity=0.95,\n",
    "                           mapbox_style=\"carto-positron\", zoom=8.5)\n",
    "fig.update_layout(margin={\"r\":0,\"t\":0,\"l\":0,\"b\":0})\n",
    "fig.show()"
   ]
  },
  {
   "cell_type": "code",
   "execution_count": null,
   "id": "eb1d3f58",
   "metadata": {},
   "outputs": [],
   "source": [
    "q_x7_1 = essex[\"poi1\"].quantile(0.1)\n",
    "q_x7_2 = essex[\"poi1\"].quantile(0.9)"
   ]
  },
  {
   "cell_type": "code",
   "execution_count": null,
   "id": "5c85be2b",
   "metadata": {},
   "outputs": [],
   "source": [
    "fig = px.choropleth_mapbox(essex,\n",
    "                           locations=\"MSOA Code\",\n",
    "                           geojson=dff,featureidkey=\"properties.MSOA Code\",\n",
    "                            color=\"poi1\",\n",
    "                           range_color=(q_x7_1,q_x7_2),\n",
    "                           center={\"lat\": 51.8, \"lon\": 0.6},\n",
    "                           labels={'shop':'shops'},\n",
    "                           opacity=0.95,\n",
    "                           mapbox_style=\"carto-positron\", zoom=8.5)\n",
    "fig.update_layout(margin={\"r\":0,\"t\":0,\"l\":0,\"b\":0})\n",
    "fig.show()"
   ]
  },
  {
   "cell_type": "markdown",
   "id": "90d85d2e",
   "metadata": {},
   "source": [
    "# Multiple Linear Regression (MLR) and AIC"
   ]
  },
  {
   "cell_type": "code",
   "execution_count": null,
   "id": "2b10037c",
   "metadata": {},
   "outputs": [],
   "source": [
    "# feature selection method\n",
    "\n",
    "sfs1 = sfs(lr,\n",
    "           k_features=10,\n",
    "           forward=True,\n",
    "           floating=False,\n",
    "           verbose=2,\n",
    "           scoring=None\n",
    "           ,cv=5\n",
    "          )"
   ]
  },
  {
   "cell_type": "markdown",
   "id": "9bd85d0d",
   "metadata": {},
   "source": [
    "### Splitting the data into Train and Test"
   ]
  },
  {
   "cell_type": "code",
   "execution_count": null,
   "id": "b13244aa",
   "metadata": {},
   "outputs": [],
   "source": [
    "X_train, X_test, y0_train, y0_test = train_test_split( X, Y['All Ages'], test_size=0.33, random_state=1234)"
   ]
  },
  {
   "cell_type": "code",
   "execution_count": null,
   "id": "e7f93149",
   "metadata": {},
   "outputs": [],
   "source": [
    "X_train, X_test, y1_train, y1_test = train_test_split( X, Y['0 - 19'], test_size=0.33, random_state=1234)"
   ]
  },
  {
   "cell_type": "code",
   "execution_count": null,
   "id": "9a74d79d",
   "metadata": {},
   "outputs": [],
   "source": [
    "X_train, X_test, y2_train, y2_test = train_test_split( X, Y['20 - 39'], test_size=0.33, random_state=1234)"
   ]
  },
  {
   "cell_type": "code",
   "execution_count": null,
   "id": "d537285a",
   "metadata": {},
   "outputs": [],
   "source": [
    "X_train, X_test, y3_train, y3_test = train_test_split( X, Y['40 - 59'], test_size=0.33, random_state=1234)"
   ]
  },
  {
   "cell_type": "code",
   "execution_count": null,
   "id": "a975354b",
   "metadata": {},
   "outputs": [],
   "source": [
    "X_train, X_test, y4_train, y4_test = train_test_split( X, Y['60 +'], test_size=0.33, random_state=1234)"
   ]
  },
  {
   "cell_type": "markdown",
   "id": "5913d85f",
   "metadata": {},
   "source": [
    "### AIC values of different age groups"
   ]
  },
  {
   "cell_type": "code",
   "execution_count": null,
   "id": "0ba3b813",
   "metadata": {},
   "outputs": [],
   "source": [
    "sfs_y0 = sfs1.fit(X_train, y0_train)\n",
    "\n",
    "# output : 0.5312693990784911"
   ]
  },
  {
   "cell_type": "code",
   "execution_count": null,
   "id": "8c88a852",
   "metadata": {},
   "outputs": [],
   "source": [
    "sfs_y1 = sfs1.fit(X_train, y1_train)\n",
    "\n",
    "# output : 0.5982918872901118"
   ]
  },
  {
   "cell_type": "code",
   "execution_count": null,
   "id": "ea4a1f93",
   "metadata": {},
   "outputs": [],
   "source": [
    "sfs_y2 = sfs1.fit(X_train, y2_train)\n",
    "\n",
    "# output : 0.508704493699982"
   ]
  },
  {
   "cell_type": "code",
   "execution_count": null,
   "id": "4ee1e89a",
   "metadata": {},
   "outputs": [],
   "source": [
    "sfs_y3 = sfs1.fit(X_train, y3_train)\n",
    "\n",
    "# output : 0.5248464096321375"
   ]
  },
  {
   "cell_type": "code",
   "execution_count": null,
   "id": "b31062ff",
   "metadata": {},
   "outputs": [],
   "source": [
    "sfs_y4 = sfs1.fit(X_train, y4_train)\n",
    "\n",
    "# output : 0.1061902622061179"
   ]
  },
  {
   "cell_type": "markdown",
   "id": "b83434d9",
   "metadata": {},
   "source": [
    "#### 0. \"All Ages\""
   ]
  },
  {
   "cell_type": "code",
   "execution_count": null,
   "id": "8c549911",
   "metadata": {},
   "outputs": [],
   "source": [
    "lr_y0 = lr.fit(X_train, y0_train)"
   ]
  },
  {
   "cell_type": "code",
   "execution_count": null,
   "id": "b299ae31",
   "metadata": {},
   "outputs": [],
   "source": [
    "lr_y0_hat=lr_y0.predict(X_test)"
   ]
  },
  {
   "cell_type": "code",
   "execution_count": null,
   "id": "6c2169e7",
   "metadata": {},
   "outputs": [],
   "source": [
    "lr_y0_r2 = r2_score(y0_test,lr_y0_hat)"
   ]
  },
  {
   "cell_type": "markdown",
   "id": "b230f54e",
   "metadata": {},
   "source": [
    "#### 1. \"0 - 19\""
   ]
  },
  {
   "cell_type": "code",
   "execution_count": null,
   "id": "73f3a61a",
   "metadata": {},
   "outputs": [],
   "source": [
    "lr_y1 = lr.fit(X_train, y1_train)"
   ]
  },
  {
   "cell_type": "code",
   "execution_count": null,
   "id": "ea496f17",
   "metadata": {},
   "outputs": [],
   "source": [
    "lr_y1_hat=lr_y1.predict(X_test)"
   ]
  },
  {
   "cell_type": "code",
   "execution_count": null,
   "id": "b28838f2",
   "metadata": {},
   "outputs": [],
   "source": [
    "lr_y1_r2 = r2_score(y1_test,lr_y1_hat)"
   ]
  },
  {
   "cell_type": "markdown",
   "id": "a1285125",
   "metadata": {},
   "source": [
    "#### 2. \"20 - 39\""
   ]
  },
  {
   "cell_type": "code",
   "execution_count": null,
   "id": "e0e55bf5",
   "metadata": {},
   "outputs": [],
   "source": [
    "lr_y2 = lr.fit(X_train, y2_train)"
   ]
  },
  {
   "cell_type": "code",
   "execution_count": null,
   "id": "033b9220",
   "metadata": {},
   "outputs": [],
   "source": [
    "lr_y2_hat=lr_y2.predict(X_test)"
   ]
  },
  {
   "cell_type": "code",
   "execution_count": null,
   "id": "4c1c608c",
   "metadata": {},
   "outputs": [],
   "source": [
    "lr_y2_r2 = r2_score(y2_test,lr_y2_hat)"
   ]
  },
  {
   "cell_type": "markdown",
   "id": "623f7e28",
   "metadata": {},
   "source": [
    "#### 3. \"40 - 59\""
   ]
  },
  {
   "cell_type": "code",
   "execution_count": null,
   "id": "94fe7145",
   "metadata": {},
   "outputs": [],
   "source": [
    "lr_y3 = lr.fit(X_train, y3_train)"
   ]
  },
  {
   "cell_type": "code",
   "execution_count": null,
   "id": "3552b55f",
   "metadata": {},
   "outputs": [],
   "source": [
    "lr_y3_hat=lr_y3.predict(X_test)"
   ]
  },
  {
   "cell_type": "code",
   "execution_count": null,
   "id": "a1d750b6",
   "metadata": {},
   "outputs": [],
   "source": [
    "lr_y3_r2 = r2_score(y3_test,lr_y3_hat)"
   ]
  },
  {
   "cell_type": "markdown",
   "id": "b0ef7507",
   "metadata": {},
   "source": [
    "#### 4. \"60 +\""
   ]
  },
  {
   "cell_type": "code",
   "execution_count": null,
   "id": "8b46fae1",
   "metadata": {},
   "outputs": [],
   "source": [
    "lr_y4 = lr.fit(X_train, y4_train)"
   ]
  },
  {
   "cell_type": "code",
   "execution_count": null,
   "id": "3a34b4a4",
   "metadata": {},
   "outputs": [],
   "source": [
    "lr_y4_hat=lr_y4.predict(X_test)"
   ]
  },
  {
   "cell_type": "code",
   "execution_count": null,
   "id": "bc588123",
   "metadata": {},
   "outputs": [],
   "source": [
    "lr_y4_r2 = r2_score(y4_test,lr_y4_hat)"
   ]
  },
  {
   "cell_type": "markdown",
   "id": "46245101",
   "metadata": {},
   "source": [
    "### R-squares of diffent age groups"
   ]
  },
  {
   "cell_type": "code",
   "execution_count": null,
   "id": "830eea57",
   "metadata": {},
   "outputs": [],
   "source": [
    "[lr_y0_r2,lr_y1_r2,lr_y2_r2,lr_y3_r2,lr_y4_r2]\n",
    "\n",
    "# output = [0.7370507194297026, 0.4539888252063323, 0.6040683330404932, 0.7734383903795486, 0.5982596341458009]"
   ]
  },
  {
   "cell_type": "markdown",
   "id": "650f9e02",
   "metadata": {},
   "source": [
    "# Morans' I and LISAs"
   ]
  },
  {
   "cell_type": "code",
   "execution_count": null,
   "id": "5f801a65",
   "metadata": {},
   "outputs": [],
   "source": [
    "essex1=essex.to_crs({'init': 'epsg:27700'})"
   ]
  },
  {
   "cell_type": "code",
   "execution_count": null,
   "id": "a8c5d3c2",
   "metadata": {},
   "outputs": [],
   "source": [
    "essex1=essex1.to_crs({'init': 'epsg:4326'})"
   ]
  },
  {
   "cell_type": "code",
   "execution_count": null,
   "id": "27318b08",
   "metadata": {},
   "outputs": [],
   "source": [
    "# weights\n",
    "\n",
    "w = weights.KNN.from_dataframe(essex1, k=5)\n",
    "w"
   ]
  },
  {
   "cell_type": "code",
   "execution_count": null,
   "id": "2bc41c08",
   "metadata": {},
   "outputs": [],
   "source": [
    "w.transform='R'"
   ]
  },
  {
   "cell_type": "code",
   "execution_count": null,
   "id": "8e50ede3",
   "metadata": {},
   "outputs": [],
   "source": [
    "y0_lags=np.log(essex1['All Ages'])\n",
    "y1_lags=np.log(essex1['0 - 19'])\n",
    "y2_lags=np.log(essex1['20 - 39'])\n",
    "y3_lags=np.log(essex1['40 - 59'])\n",
    "y4_lags=np.log(essex1['60 +'])"
   ]
  },
  {
   "cell_type": "code",
   "execution_count": null,
   "id": "86d82d1d",
   "metadata": {},
   "outputs": [],
   "source": []
  },
  {
   "cell_type": "code",
   "execution_count": null,
   "id": "bc7a822f",
   "metadata": {},
   "outputs": [],
   "source": [
    "essex1['lag_y0']=weights.lag_spatial(w,y0_lags)"
   ]
  },
  {
   "cell_type": "code",
   "execution_count": null,
   "id": "a2e45503",
   "metadata": {},
   "outputs": [],
   "source": [
    "essex1['lag_y1']=weights.lag_spatial(w,y1_lags)"
   ]
  },
  {
   "cell_type": "code",
   "execution_count": null,
   "id": "632c32fd",
   "metadata": {},
   "outputs": [],
   "source": [
    "essex1['lag_y2']=weights.lag_spatial(w,y2_lags)"
   ]
  },
  {
   "cell_type": "code",
   "execution_count": null,
   "id": "da8d37c0",
   "metadata": {},
   "outputs": [],
   "source": [
    "essex1['lag_y3']=weights.lag_spatial(w,y3_lags)"
   ]
  },
  {
   "cell_type": "code",
   "execution_count": null,
   "id": "dbfc7300",
   "metadata": {},
   "outputs": [],
   "source": [
    "essex1['lag_y4']=weights.lag_spatial(w,y4_lags)"
   ]
  },
  {
   "cell_type": "code",
   "execution_count": null,
   "id": "0d7b1c40",
   "metadata": {},
   "outputs": [],
   "source": []
  },
  {
   "cell_type": "code",
   "execution_count": null,
   "id": "85ea8eb7",
   "metadata": {},
   "outputs": [],
   "source": [
    "mi_y0 = esda.Moran(essex1['lag_y0'],w)"
   ]
  },
  {
   "cell_type": "code",
   "execution_count": null,
   "id": "e9c8eee3",
   "metadata": {},
   "outputs": [],
   "source": [
    "mi_y1 = esda.Moran(essex1['lag_y1'],w)"
   ]
  },
  {
   "cell_type": "code",
   "execution_count": null,
   "id": "57f818ba",
   "metadata": {},
   "outputs": [],
   "source": [
    "mi_y2 = esda.Moran(essex1['lag_y2'],w)"
   ]
  },
  {
   "cell_type": "code",
   "execution_count": null,
   "id": "bae158af",
   "metadata": {},
   "outputs": [],
   "source": [
    "mi_y3 = esda.Moran(essex1['lag_y3'],w)"
   ]
  },
  {
   "cell_type": "code",
   "execution_count": null,
   "id": "561a1e0a",
   "metadata": {},
   "outputs": [],
   "source": [
    "mi_y4 = esda.Moran(essex1['lag_y4'],w)"
   ]
  },
  {
   "cell_type": "markdown",
   "id": "c6c52b12",
   "metadata": {},
   "source": [
    "### Moran's I value and its p-value"
   ]
  },
  {
   "cell_type": "code",
   "execution_count": null,
   "id": "3797c02c",
   "metadata": {},
   "outputs": [],
   "source": [
    "[mi_y0.I,mi_y0.p_sim]\n",
    "\n",
    "# output : [0.6996827431755985, 0.001]"
   ]
  },
  {
   "cell_type": "code",
   "execution_count": null,
   "id": "3d67a11c",
   "metadata": {},
   "outputs": [],
   "source": [
    "[mi_y1.I,mi_y1.p_sim]\n",
    "\n",
    "# output : [0.7031824977989647, 0.001]"
   ]
  },
  {
   "cell_type": "code",
   "execution_count": null,
   "id": "8e1fadca",
   "metadata": {},
   "outputs": [],
   "source": [
    "[mi_y2.I,mi_y2.p_sim]\n",
    "\n",
    "# output : [0.7126313473981126, 0.001]"
   ]
  },
  {
   "cell_type": "code",
   "execution_count": null,
   "id": "1a108af0",
   "metadata": {},
   "outputs": [],
   "source": [
    "[mi_y3.I,mi_y4.p_sim]\n",
    "\n",
    "# output : [0.6950751235336577, 0.001]"
   ]
  },
  {
   "cell_type": "code",
   "execution_count": null,
   "id": "593da448",
   "metadata": {},
   "outputs": [],
   "source": [
    "[mi_y4.I,mi_y4.p_sim]\n",
    "\n",
    "# output : [0.6972541451237817, 0.001]"
   ]
  },
  {
   "cell_type": "markdown",
   "id": "cd270153",
   "metadata": {},
   "source": [
    "### Clustering visualisation with LISAs "
   ]
  },
  {
   "cell_type": "code",
   "execution_count": null,
   "id": "c15d8943",
   "metadata": {},
   "outputs": [],
   "source": [
    "lisa_y0 = esda.Moran_Local(essex1['lag_y0'],w)"
   ]
  },
  {
   "cell_type": "code",
   "execution_count": null,
   "id": "c1ac0b3f",
   "metadata": {},
   "outputs": [],
   "source": [
    "lisa_y1 = esda.Moran_Local(essex1['lag_y1'],w)"
   ]
  },
  {
   "cell_type": "code",
   "execution_count": null,
   "id": "13496c85",
   "metadata": {},
   "outputs": [],
   "source": [
    "lisa_y2 = esda.Moran_Local(essex1['lag_y2'],w)"
   ]
  },
  {
   "cell_type": "code",
   "execution_count": null,
   "id": "805b505f",
   "metadata": {},
   "outputs": [],
   "source": [
    "lisa_y3 = esda.Moran_Local(essex1['lag_y3'],w)"
   ]
  },
  {
   "cell_type": "code",
   "execution_count": null,
   "id": "0f525aa7",
   "metadata": {},
   "outputs": [],
   "source": [
    "lisa_y4 = esda.Moran_Local(essex1['lag_y4'],w)"
   ]
  },
  {
   "cell_type": "code",
   "execution_count": null,
   "id": "9287a106",
   "metadata": {},
   "outputs": [],
   "source": []
  },
  {
   "cell_type": "code",
   "execution_count": null,
   "id": "3651e6fd",
   "metadata": {},
   "outputs": [],
   "source": [
    "essex1['significant_y0']=lisa_y0.p_sim<0.05\n",
    "essex1['quadrant_y0']=lisa_y0.q"
   ]
  },
  {
   "cell_type": "code",
   "execution_count": null,
   "id": "09970fd4",
   "metadata": {},
   "outputs": [],
   "source": [
    "essex1['significant_y1']=lisa_y1.p_sim<0.05\n",
    "essex1['quadrant_y1']=lisa_y1.q"
   ]
  },
  {
   "cell_type": "code",
   "execution_count": null,
   "id": "a8037c78",
   "metadata": {},
   "outputs": [],
   "source": [
    "essex1['significant_y2']=lisa_y2.p_sim<0.05\n",
    "essex1['quadrant_y2']=lisa_y2.q"
   ]
  },
  {
   "cell_type": "code",
   "execution_count": null,
   "id": "635282d0",
   "metadata": {},
   "outputs": [],
   "source": [
    "essex1['significant_y3']=lisa_y3.p_sim<0.05\n",
    "essex1['quadrant_y3']=lisa_y3.q"
   ]
  },
  {
   "cell_type": "code",
   "execution_count": null,
   "id": "f5476f13",
   "metadata": {},
   "outputs": [],
   "source": [
    "essex1['significant_y4']=lisa_y4.p_sim<0.05\n",
    "essex1['quadrant_y4']=lisa_y4.q"
   ]
  },
  {
   "cell_type": "code",
   "execution_count": null,
   "id": "e8775644",
   "metadata": {},
   "outputs": [],
   "source": []
  },
  {
   "cell_type": "code",
   "execution_count": null,
   "id": "51ba7a1c",
   "metadata": {},
   "outputs": [],
   "source": [
    "lisa_cluster(lisa_y0,essex1, figsize=(15,10));"
   ]
  },
  {
   "cell_type": "code",
   "execution_count": null,
   "id": "ed361e3d",
   "metadata": {},
   "outputs": [],
   "source": []
  },
  {
   "cell_type": "code",
   "execution_count": null,
   "id": "25533e9a",
   "metadata": {},
   "outputs": [],
   "source": [
    "plot_local_autocorrelation(lisa_y0, essex1, 'All Ages');"
   ]
  },
  {
   "cell_type": "code",
   "execution_count": null,
   "id": "0646cb3f",
   "metadata": {},
   "outputs": [],
   "source": [
    "plot_local_autocorrelation(lisa_y1, essex1, '0 - 19');"
   ]
  },
  {
   "cell_type": "code",
   "execution_count": null,
   "id": "8535077f",
   "metadata": {},
   "outputs": [],
   "source": [
    "plot_local_autocorrelation(lisa_y2, essex1, '20 - 39');"
   ]
  },
  {
   "cell_type": "code",
   "execution_count": null,
   "id": "559ee996",
   "metadata": {},
   "outputs": [],
   "source": [
    "plot_local_autocorrelation(lisa_y3, essex1, '40 - 59');"
   ]
  },
  {
   "cell_type": "code",
   "execution_count": null,
   "id": "93b49fb2",
   "metadata": {},
   "outputs": [],
   "source": [
    "plot_local_autocorrelation(lisa_y4, essex1, '60 +');"
   ]
  },
  {
   "cell_type": "markdown",
   "id": "ea3e19eb",
   "metadata": {},
   "source": [
    "# Supervised ML Classifications"
   ]
  },
  {
   "cell_type": "markdown",
   "id": "1b8aa422",
   "metadata": {},
   "source": [
    "### conveting the Target variable into Categorical variables"
   ]
  },
  {
   "cell_type": "code",
   "execution_count": null,
   "id": "4dd755b5",
   "metadata": {},
   "outputs": [],
   "source": [
    "y0_c=essex['All Ages']\n",
    "y0_c.describe()"
   ]
  },
  {
   "cell_type": "code",
   "execution_count": null,
   "id": "6ca0f7d8",
   "metadata": {},
   "outputs": [],
   "source": [
    "y1_c=essex['0 - 19']\n",
    "y1_c.describe()"
   ]
  },
  {
   "cell_type": "code",
   "execution_count": null,
   "id": "9c3c5d2e",
   "metadata": {},
   "outputs": [],
   "source": [
    "y2_c=essex['20 - 39']\n",
    "y2_c.describe()"
   ]
  },
  {
   "cell_type": "code",
   "execution_count": null,
   "id": "46cbeaa8",
   "metadata": {},
   "outputs": [],
   "source": [
    "y3_c=essex['40 - 59']\n",
    "y3_c.describe()"
   ]
  },
  {
   "cell_type": "code",
   "execution_count": null,
   "id": "4d124ea2",
   "metadata": {},
   "outputs": [],
   "source": [
    "y4_c=essex['60 +']\n",
    "y4_c.describe()"
   ]
  },
  {
   "cell_type": "code",
   "execution_count": null,
   "id": "d3504f87",
   "metadata": {},
   "outputs": [],
   "source": [
    "y0_c=pd.cut(y0_c,bins=[0,309.971742, 1474.057691,3046.687207,8005],labels=['low','med','high','v_high'])\n",
    "y1_c=pd.cut(y1_c,bins=[0,72.316167, 325.499034,740.103625,2465],labels=['low','med','high','v_high'])\n",
    "y2_c=pd.cut(y2_c,bins=[0,65.190875, 309.003778,792.340802,3840],labels=['low','med','high','v_high'])\n",
    "y3_c=pd.cut(y3_c,bins=[0,89.610282, 380.038388,789.010829,1832],labels=['low','med','high','v_high'])\n",
    "y4_c=pd.cut(y4_c,bins=[0,94.833619, 352.472089,760.905416,1928],labels=['low','med','high','v_high'])"
   ]
  },
  {
   "cell_type": "markdown",
   "id": "fbe4f7f9",
   "metadata": {},
   "source": [
    "### splitting the data into Train and Test data"
   ]
  },
  {
   "cell_type": "code",
   "execution_count": null,
   "id": "114c0c59",
   "metadata": {},
   "outputs": [],
   "source": [
    "X_train, X_test, y0_c_train, y0_c_test = train_test_split( X, y0_c, test_size=0.33, random_state=1234)"
   ]
  },
  {
   "cell_type": "code",
   "execution_count": null,
   "id": "8c0a8b3b",
   "metadata": {},
   "outputs": [],
   "source": [
    "X_train, X_test, y1_c_train, y1_c_test = train_test_split( X, y1_c, test_size=0.33, random_state=1234)"
   ]
  },
  {
   "cell_type": "code",
   "execution_count": null,
   "id": "b764be87",
   "metadata": {},
   "outputs": [],
   "source": [
    "X_train, X_test, y2_c_train, y2_c_test = train_test_split( X, y2_c, test_size=0.33, random_state=1234)"
   ]
  },
  {
   "cell_type": "code",
   "execution_count": null,
   "id": "ed0b6019",
   "metadata": {},
   "outputs": [],
   "source": [
    "X_train, X_test, y3_c_train, y3_c_test = train_test_split( X, y3_c, test_size=0.33, random_state=1234)"
   ]
  },
  {
   "cell_type": "code",
   "execution_count": null,
   "id": "1b5b4d83",
   "metadata": {},
   "outputs": [],
   "source": [
    "X_train, X_test, y4_c_train, y4_c_test = train_test_split( X, y4_c, test_size=0.33, random_state=1234)"
   ]
  },
  {
   "cell_type": "markdown",
   "id": "74c8f895",
   "metadata": {},
   "source": [
    "### Traning the data with algorithms"
   ]
  },
  {
   "cell_type": "code",
   "execution_count": null,
   "id": "299fed12",
   "metadata": {},
   "outputs": [],
   "source": [
    "reg_y0  = reg.fit(X_train,y0_c_train)\n",
    "rf_y0    = rf.fit(X_train,y0_c_train)\n",
    "dt_y0    = dt.fit(X_train,y0_c_train)\n",
    "svm_y0 = svmc.fit(X_train,y0_c_train)"
   ]
  },
  {
   "cell_type": "code",
   "execution_count": null,
   "id": "96e0e419",
   "metadata": {},
   "outputs": [],
   "source": [
    "reg_y1  = reg.fit(X_train,y1_c_train)\n",
    "rf_y1    = rf.fit(X_train,y1_c_train)\n",
    "dt_y1    = dt.fit(X_train,y1_c_train)\n",
    "svm_y1 = svmc.fit(X_train,y1_c_train)"
   ]
  },
  {
   "cell_type": "code",
   "execution_count": null,
   "id": "ba80ea93",
   "metadata": {},
   "outputs": [],
   "source": [
    "reg_y2  = reg.fit(X_train,y2_c_train)\n",
    "rf_y2    = rf.fit(X_train,y2_c_train)\n",
    "dt_y2    = dt.fit(X_train,y2_c_train)\n",
    "svm_y2 = svmc.fit(X_train,y2_c_train)"
   ]
  },
  {
   "cell_type": "code",
   "execution_count": null,
   "id": "6de04a4c",
   "metadata": {},
   "outputs": [],
   "source": [
    "reg_y3  = reg.fit(X_train,y3_c_train)\n",
    "rf_y3    = rf.fit(X_train,y3_c_train)\n",
    "dt_y3    = dt.fit(X_train,y3_c_train)\n",
    "svm_y3 = svmc.fit(X_train,y3_c_train)"
   ]
  },
  {
   "cell_type": "code",
   "execution_count": null,
   "id": "d74d7375",
   "metadata": {},
   "outputs": [],
   "source": [
    "reg_y4  = reg.fit(X_train,y0_c_train)\n",
    "rf_y4    = rf.fit(X_train,y0_c_train)\n",
    "dt_y4    = dt.fit(X_train,y0_c_train)\n",
    "svm_y4 = svmc.fit(X_train,y0_c_train)"
   ]
  },
  {
   "cell_type": "markdown",
   "id": "36000450",
   "metadata": {},
   "source": [
    "### Predicting the output with trained models"
   ]
  },
  {
   "cell_type": "code",
   "execution_count": null,
   "id": "3bb04c93",
   "metadata": {},
   "outputs": [],
   "source": [
    "y0_hat1 = reg_y0.predict(X_test)\n",
    "y0_hat2 =  rf_y0.predict(X_test)\n",
    "y0_hat3 =  dt_y0.predict(X_test)\n",
    "y0_hat4 = svm_y0.predict(X_test)"
   ]
  },
  {
   "cell_type": "code",
   "execution_count": null,
   "id": "3a7e44f2",
   "metadata": {},
   "outputs": [],
   "source": [
    "y1_hat1 = reg_y1.predict(X_test)\n",
    "y1_hat2 =  rf_y1.predict(X_test)\n",
    "y1_hat3 =  dt_y1.predict(X_test)\n",
    "y1_hat4 = svm_y1.predict(X_test)"
   ]
  },
  {
   "cell_type": "code",
   "execution_count": null,
   "id": "a5a31d59",
   "metadata": {},
   "outputs": [],
   "source": [
    "y2_hat1 = reg_y2.predict(X_test)\n",
    "y2_hat2 =  rf_y2.predict(X_test)\n",
    "y2_hat3 =  dt_y2.predict(X_test)\n",
    "y2_hat4 = svm_y2.predict(X_test)"
   ]
  },
  {
   "cell_type": "code",
   "execution_count": null,
   "id": "d88cb03f",
   "metadata": {},
   "outputs": [],
   "source": [
    "y3_hat1 = reg_y3.predict(X_test)\n",
    "y3_hat2 =  rf_y3.predict(X_test)\n",
    "y3_hat3 =  dt_y3.predict(X_test)\n",
    "y3_hat4 = svm_y3.predict(X_test)"
   ]
  },
  {
   "cell_type": "code",
   "execution_count": null,
   "id": "e7e7dbd7",
   "metadata": {},
   "outputs": [],
   "source": [
    "y4_hat1 = reg_y4.predict(X_test)\n",
    "y4_hat2 =  rf_y4.predict(X_test)\n",
    "y4_hat3 =  dt_y4.predict(X_test)\n",
    "y4_hat4 = svm_y4.predict(X_test)"
   ]
  },
  {
   "cell_type": "markdown",
   "id": "11b218f5",
   "metadata": {},
   "source": [
    "### Calculating the Accuracy of each model"
   ]
  },
  {
   "cell_type": "code",
   "execution_count": null,
   "id": "14d83e98",
   "metadata": {},
   "outputs": [],
   "source": [
    "y0_acc1=accuracy_score(y0_c_test,y0_hat1)\n",
    "y0_acc2=accuracy_score(y0_c_test,y0_hat2)\n",
    "y0_acc3=accuracy_score(y0_c_test,y0_hat3)\n",
    "y0_acc4=accuracy_score(y0_c_test,y0_hat4)\n",
    "y0_acc = [y0_acc1,y0_acc2,y0_acc3,y0_acc4]\n"
   ]
  },
  {
   "cell_type": "code",
   "execution_count": null,
   "id": "c52574e3",
   "metadata": {},
   "outputs": [],
   "source": [
    "y1_acc1=accuracy_score(y1_c_test,y1_hat1)\n",
    "y1_acc2=accuracy_score(y1_c_test,y1_hat2)\n",
    "y1_acc3=accuracy_score(y1_c_test,y1_hat3)\n",
    "y1_acc4=accuracy_score(y1_c_test,y1_hat4)\n",
    "y1_acc = [y1_acc1,y1_acc2,y1_acc3,y1_acc4]\n"
   ]
  },
  {
   "cell_type": "code",
   "execution_count": null,
   "id": "aa122f32",
   "metadata": {},
   "outputs": [],
   "source": [
    "y2_acc1=accuracy_score(y2_c_test,y2_hat1)\n",
    "y2_acc2=accuracy_score(y2_c_test,y2_hat2)\n",
    "y2_acc3=accuracy_score(y2_c_test,y2_hat3)\n",
    "y2_acc4=accuracy_score(y2_c_test,y2_hat4)\n",
    "y2_acc = [y2_acc1,y2_acc2,y2_acc3,y2_acc4]\n"
   ]
  },
  {
   "cell_type": "code",
   "execution_count": null,
   "id": "2ed16545",
   "metadata": {},
   "outputs": [],
   "source": [
    "y3_acc1=accuracy_score(y3_c_test,y3_hat1)\n",
    "y3_acc2=accuracy_score(y3_c_test,y3_hat2)\n",
    "y3_acc3=accuracy_score(y3_c_test,y3_hat3)\n",
    "y3_acc4=accuracy_score(y3_c_test,y3_hat4)\n",
    "y3_acc = [y3_acc1,y3_acc2,y3_acc3,y3_acc4]\n"
   ]
  },
  {
   "cell_type": "code",
   "execution_count": null,
   "id": "cfaf15e9",
   "metadata": {},
   "outputs": [],
   "source": [
    "y4_acc1=accuracy_score(y4_c_test,y4_hat1)\n",
    "y4_acc2=accuracy_score(y4_c_test,y4_hat2)\n",
    "y4_acc3=accuracy_score(y4_c_test,y4_hat3)\n",
    "y4_acc4=accuracy_score(y4_c_test,y4_hat4)\n",
    "y4_acc = [y4_acc1,y4_acc2,y4_acc3,y4_acc4]\n"
   ]
  },
  {
   "cell_type": "code",
   "execution_count": null,
   "id": "decb5ebf",
   "metadata": {},
   "outputs": [],
   "source": [
    "y0_acc\n",
    "\n",
    "# output = [0.7241, 0.8793, 0.7586, 0.5689]"
   ]
  },
  {
   "cell_type": "code",
   "execution_count": null,
   "id": "b7640926",
   "metadata": {},
   "outputs": [],
   "source": [
    "y1_acc\n",
    "\n",
    "# output = [0.7068, 0.8965, 0.8103, 0.6034]"
   ]
  },
  {
   "cell_type": "code",
   "execution_count": null,
   "id": "15b75c52",
   "metadata": {},
   "outputs": [],
   "source": [
    "y2_acc\n",
    "\n",
    "# output = [0.6896, 0.8448, 0.7931, 0.5689]"
   ]
  },
  {
   "cell_type": "code",
   "execution_count": null,
   "id": "9d2723cc",
   "metadata": {},
   "outputs": [],
   "source": [
    "y3_acc\n",
    "\n",
    "# output = [0.7413, 0.8965, 0.8103, 0.5689]"
   ]
  },
  {
   "cell_type": "code",
   "execution_count": null,
   "id": "70eaf380",
   "metadata": {},
   "outputs": [],
   "source": [
    "y4_acc\n",
    "\n",
    "# output = [0.6896, 0.7758, 0.6896, 0.5344]"
   ]
  },
  {
   "cell_type": "code",
   "execution_count": null,
   "id": "62670b29",
   "metadata": {},
   "outputs": [],
   "source": []
  },
  {
   "cell_type": "code",
   "execution_count": null,
   "id": "c6e990c2",
   "metadata": {},
   "outputs": [],
   "source": []
  }
 ],
 "metadata": {
  "kernelspec": {
   "display_name": "Python 3 (ipykernel)",
   "language": "python",
   "name": "python3"
  },
  "language_info": {
   "codemirror_mode": {
    "name": "ipython",
    "version": 3
   },
   "file_extension": ".py",
   "mimetype": "text/x-python",
   "name": "python",
   "nbconvert_exporter": "python",
   "pygments_lexer": "ipython3",
   "version": "3.10.6"
  }
 },
 "nbformat": 4,
 "nbformat_minor": 5
}
